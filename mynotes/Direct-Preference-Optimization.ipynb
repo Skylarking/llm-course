{
 "cells": [
  {
   "metadata": {},
   "cell_type": "markdown",
   "source": [
    "# 一、 简介\n",
    "\n",
    "## 1. 什么是DPO\n",
    "在RLHF中，在得到偏好数据集（Preference Dataset）后RLHF实际上是先训练一个reward model，之后在利用PPO算法对LLM进行微调；而DPO去除了这两个步骤，在得到偏好数据集后直接优化LLM。对比如下图：\n",
    "<p align=center>\n",
    "    <img src=\"./imgs/dpo.png\" width=1000>\n",
    "</p>\n",
    "<p align=center>\n",
    "    <em>image: RLHF与DPO对比</em>\n",
    "</p>\n",
    "\n",
    "## 2. 什么是偏好数据集？以及DPO所需要的数据集？\n",
    "回顾RLHF的流程：\n",
    "<p align=center>\n",
    "    <img src=\"./imgs/rewardmodel.jpg\" width=800>\n",
    "</p>\n",
    "<p align=center>\n",
    "    <em>image: 训练奖励模型</em>\n",
    "</p>\n",
    "\n",
    "因此偏好数据集就是用待微调的LLM用一个prompt生成4~9个response，然后人工对这些response做一个排序。这样就得到了一样本。之后会拿这些数据去训练一个reward model。因此偏好数据集的组织形式就是一个序列：\n",
    "```json\n",
    "{\n",
    "    prompt: \"How are you?\",\n",
    "    response: [answer1, answer2, ...] // 已经按照偏好顺序排序\n",
    "}\n",
    "```\n",
    "或者偏好数据集的另一种形式，这种形式是按照pair-wise排列的\n",
    "```json\n",
    "{\n",
    "    prompt: \"How are you?\",\n",
    "    chosen: answer_j,   // j的排序在k的前面\n",
    "    reject: answer_k,\n",
    "}\n",
    "```\n",
    "# 二、数据集加载\n",
    "数据集为[stack-exchange-paired数据集](https://huggingface.co/datasets/lvwerra/stack-exchange-paired?library=datasets)"
   ],
   "id": "4e9b2ae26ba8b16a"
  },
  {
   "metadata": {
    "ExecuteTime": {
     "end_time": "2024-09-06T08:19:28.320877Z",
     "start_time": "2024-09-06T08:19:28.313516Z"
    }
   },
   "cell_type": "code",
   "source": [
    "import os\n",
    "# 获取当前工作目录\n",
    "current_directory = os.getcwd()\n",
    "print(\"当前工作目录:\", current_directory)\n",
    "\n",
    "# 设置新的工作目录\n",
    "new_directory = \"/mnt/d/code/llm/llm-course\"\n",
    "os.chdir(new_directory)\n",
    "\n",
    "# 再次获取当前工作目录，确认是否更改成功\n",
    "current_directory = os.getcwd()\n",
    "print(\"新的工作目录:\", current_directory)"
   ],
   "id": "f370b4d33663dcfe",
   "outputs": [
    {
     "name": "stdout",
     "output_type": "stream",
     "text": [
      "当前工作目录: /mnt/d/code/llm/llm-course/mynotes\n",
      "新的工作目录: /mnt/d/code/llm/llm-course\n"
     ]
    }
   ],
   "execution_count": 1
  },
  {
   "metadata": {
    "ExecuteTime": {
     "end_time": "2024-09-06T08:36:54.363921Z",
     "start_time": "2024-09-06T08:23:46.441404Z"
    }
   },
   "cell_type": "code",
   "source": [
    "from datasets import load_dataset\n",
    "\n",
    "dataset = load_dataset(\n",
    "    \"lvwerra/stack-exchange-paired\",\n",
    "    split=\"train\",\n",
    "    data_dir=\"data/rl\"\n",
    ")\n",
    "original_columns = dataset.column_names"
   ],
   "id": "7c85ba5393f628bc",
   "outputs": [
    {
     "data": {
      "text/plain": [
       "Resolving data files:   0%|          | 0/20 [00:00<?, ?it/s]"
      ],
      "application/vnd.jupyter.widget-view+json": {
       "version_major": 2,
       "version_minor": 0,
       "model_id": "52f5097de1374e6e94fc1f80c8cb9e48"
      }
     },
     "metadata": {},
     "output_type": "display_data"
    },
    {
     "data": {
      "text/plain": [
       "Downloading data:   0%|          | 0/20 [00:00<?, ?files/s]"
      ],
      "application/vnd.jupyter.widget-view+json": {
       "version_major": 2,
       "version_minor": 0,
       "model_id": "cd6dab3060a742fdb1bb80a27de40e23"
      }
     },
     "metadata": {},
     "output_type": "display_data"
    },
    {
     "data": {
      "text/plain": [
       "Generating train split: 0 examples [00:00, ? examples/s]"
      ],
      "application/vnd.jupyter.widget-view+json": {
       "version_major": 2,
       "version_minor": 0,
       "model_id": "65b7a539f6e24427a92f68f7858f3c96"
      }
     },
     "metadata": {},
     "output_type": "display_data"
    },
    {
     "data": {
      "text/plain": [
       "Loading dataset shards:   0%|          | 0/42 [00:00<?, ?it/s]"
      ],
      "application/vnd.jupyter.widget-view+json": {
       "version_major": 2,
       "version_minor": 0,
       "model_id": "95c94a32af0f426eb78d847d941291c9"
      }
     },
     "metadata": {},
     "output_type": "display_data"
    }
   ],
   "execution_count": 5
  },
  {
   "metadata": {},
   "cell_type": "markdown",
   "source": "过滤一下数据集，选择特定的prompt",
   "id": "fe84e7c5f33f7d8d"
  },
  {
   "metadata": {
    "ExecuteTime": {
     "end_time": "2024-09-06T08:54:51.702512Z",
     "start_time": "2024-09-06T08:51:15.867926Z"
    }
   },
   "cell_type": "code",
   "source": [
    "# print(type(dataset))\n",
    "filtered_dataset = dataset.filter(lambda example: example['qid'] == 6763429)\n",
    "print(len(filtered_dataset))"
   ],
   "id": "4006f7ef82121237",
   "outputs": [
    {
     "data": {
      "text/plain": [
       "Filter:   0%|          | 0/7435908 [00:00<?, ? examples/s]"
      ],
      "application/vnd.jupyter.widget-view+json": {
       "version_major": 2,
       "version_minor": 0,
       "model_id": "6e45580a535243eba136a448daa908d3"
      }
     },
     "metadata": {},
     "output_type": "display_data"
    },
    {
     "name": "stdout",
     "output_type": "stream",
     "text": [
      "9\n"
     ]
    }
   ],
   "execution_count": 15
  },
  {
   "metadata": {},
   "cell_type": "markdown",
   "source": "打印出来出来后，这个过滤后的数据集的qid都一样，因此question是一样的，区别在于j与k的组合不同",
   "id": "14b3b4020ea8b5f"
  },
  {
   "metadata": {
    "ExecuteTime": {
     "end_time": "2024-09-06T08:56:02.217608Z",
     "start_time": "2024-09-06T08:56:02.211800Z"
    }
   },
   "cell_type": "code",
   "source": [
    "row = 1\n",
    "\n",
    "print('##############################################')\n",
    "print(filtered_dataset[row]['qid'])\n",
    "\n",
    "print('##############################################')\n",
    "print(filtered_dataset[row]['question'])\n",
    "\n",
    "print('##############################################')\n",
    "print(filtered_dataset[row]['date'])\n",
    "\n",
    "print('##############################################')\n",
    "print(filtered_dataset[row]['metadata'])\n",
    "\n",
    "print('##############################################')\n",
    "print(filtered_dataset[row]['response_j'])\n",
    "\n",
    "print('##############################################')\n",
    "print(filtered_dataset[row]['response_k'])"
   ],
   "id": "e39e7f8b2cf49829",
   "outputs": [
    {
     "name": "stdout",
     "output_type": "stream",
     "text": [
      "##############################################\n",
      "6763429\n",
      "##############################################\n",
      "i want to write a shape with \" \\* \" and \" | \" the shape is below.\n",
      "The program must take height and width from user.Width is column number without ' | '.I tried to write but confused.My code sometimes works great and sometimes being stupid.For example when i enter height : 13, width : 4 it writes one more,if witdh is 1 it enters infinite loop.While trying to solve it became too conflicted.Must i fix it or rewrite ? Here is the code : height =10, width = 5\n",
      "\n",
      "```\n",
      "\n",
      "|*____|    \n",
      "|_*___|\n",
      "|__*__|\n",
      "|___*_|\n",
      "|____*|\n",
      "|___*_|\n",
      "|__*__|\n",
      "|_*___|\n",
      "|*____|\n",
      "|_*___|\n",
      "\n",
      "```\n",
      "\n",
      "```\n",
      "      private static void Function()\n",
      "      {\n",
      "        int height, width;\n",
      "\n",
      "        if (width == 2)\n",
      "            while (height > 0)\n",
      "            {\n",
      "                FirstPart(width, height);\n",
      "                height -= width;\n",
      "            }\n",
      "        else\n",
      "            while (height > 0)\n",
      "            {\n",
      "                if (height > 1)\n",
      "                {\n",
      "                    FirstPart(width, height);\n",
      "                    height -= width;\n",
      "                }\n",
      "                if (height > 0)\n",
      "                {\n",
      "                    SecondPart(width, height);\n",
      "                    height -= width - 2;\n",
      "                }\n",
      "            }\n",
      "    }\n",
      "\n",
      "    private static void FirstPart(int width,int height)\n",
      "    {\n",
      "\n",
      "        if(height > width)\n",
      "             for (int i = 0; i < width; i++)\n",
      "             {\n",
      "                for (int j = 0; j < width+2; j++)\n",
      "                {\n",
      "\n",
      "                    if (j == 0 || j == width + 1)\n",
      "                        Console.Write(\"|\");\n",
      "                    else\n",
      "                         if (i + 1 == j)\n",
      "                            Console.Write(\"*\");\n",
      "                         else\n",
      "                             Console.Write(\" \");\n",
      "                }\n",
      "             Console.WriteLine();\n",
      "        }\n",
      "        else\n",
      "            for (int i = 0; i < height; i++)\n",
      "            {\n",
      "                for (int j = 0; j < width + 2; j++)\n",
      "                {\n",
      "\n",
      "                    if (j == 0 || j == width + 1)\n",
      "                        Console.Write(\"|\");\n",
      "                    else\n",
      "                        if (i + 1 == j)\n",
      "                            Console.Write(\"*\");\n",
      "                        else\n",
      "                            Console.Write(\" \");\n",
      "                }\n",
      "                Console.WriteLine();\n",
      "            }\n",
      "    }\n",
      "    private static void SecondPart(int width,int height)\n",
      "    {\n",
      "\n",
      "        if(height > width)\n",
      "\n",
      "            for (int i = 0; i < width-2; i++)\n",
      "            {\n",
      "               for (int j = 0; j < width+2; j++)\n",
      "               {\n",
      "\n",
      "                if (j == 0 || j == width + 1)\n",
      "                    Console.Write(\"|\");\n",
      "                else\n",
      "                    if (i + j == width-1)\n",
      "                        Console.Write(\"*\");\n",
      "                    else\n",
      "                        Console.Write(\" \");\n",
      "            }\n",
      "            Console.WriteLine();\n",
      "        }\n",
      "        else\n",
      "            for (int i = 0; i < height; i++)\n",
      "            {                                     \n",
      "                for (int j = 0; j < width + 2; j++)\n",
      "                {\n",
      "                    if (j == 0 || j == width + 1)\n",
      "                        Console.Write(\"|\");\n",
      "                    else\n",
      "                        if (i + j == width - 1)\n",
      "                            Console.Write(\"*\");\n",
      "                        else\n",
      "                            Console.Write(\" \");\n",
      "                }\n",
      "                Console.WriteLine();\n",
      "            }\n",
      "    }            \n",
      "\n",
      "```\n",
      "##############################################\n",
      "2011/07/20\n",
      "##############################################\n",
      "['https://Stackoverflow.com/questions/6763429', 'https://Stackoverflow.com', 'https://Stackoverflow.com/users/852118/']\n",
      "##############################################\n",
      "I see a\n",
      "\n",
      "```\n",
      "while (Height > 0)\n",
      "\n",
      "```\n",
      "\n",
      "so your infinite loop is coming from Height never getting less or equal to 0.\n",
      "##############################################\n",
      "```\n",
      "void WriteStars(int Width,int Height)\n",
      "{\n",
      "    int _sp=1; //Star Pos\n",
      "    bool _left = false;\n",
      "    for(int i =0;i<Height;i++)\n",
      "    {\n",
      "        Console.Write(\"|\");\n",
      "        int j;\n",
      "        for(j=1;j<Width-1;j++)\n",
      "        {\n",
      "            if(j==_sp)\n",
      "            {\n",
      "                Console.Write(\"*\");\n",
      "                if(_left)\n",
      "                {\n",
      "                    _sp--;\n",
      "                }\n",
      "                else\n",
      "                {\n",
      "                    _sp++;\n",
      "                }\n",
      "                   j++;\n",
      "                   break;\n",
      "            }\n",
      "            else\n",
      "            {\n",
      "               Console.Write(\"_\");\n",
      "            }\n",
      "        }\n",
      "        for(;j<Width-1;j++)\n",
      "        {\n",
      "            Console.Write(\"_\");\n",
      "        }\n",
      "\n",
      "        Console.WriteLine(\"|\");\n",
      "        if(_sp==0)\n",
      "        {\n",
      "            _left = false;\n",
      "        }\n",
      "        else if(_sp==Width)\n",
      "        {\n",
      "            _left = true;\n",
      "        }\n",
      "\n",
      "    }\n",
      "}\n",
      "\n",
      "```\n",
      "\n",
      "Try if it works, wrote it right here.\n"
     ]
    }
   ],
   "execution_count": 17
  },
  {
   "metadata": {},
   "cell_type": "markdown",
   "source": "将数据集转换成特定形式，方便训练",
   "id": "5d85d619c0bda5b5"
  },
  {
   "metadata": {
    "ExecuteTime": {
     "end_time": "2024-09-06T09:08:37.263276Z",
     "start_time": "2024-09-06T09:01:42.334242Z"
    }
   },
   "cell_type": "code",
   "source": [
    "from typing import Dict\n",
    "\n",
    "def return_prompt_and_responses(samples) -> Dict[str, str]:\n",
    "    return {\n",
    "        \"prompt\": [\n",
    "            \"Question: \" + question + \"\\n\\nAnswer: \"\n",
    "            for question in samples[\"question\"]\n",
    "        ],\n",
    "        \"chosen\": samples[\"response_j\"], # rated better than k\n",
    "        \"rejected\": samples[\"response_k\"], # rated worse than j\n",
    "    }\n",
    "dataset.map(\n",
    "    return_prompt_and_responses,\n",
    "    batched=True,\n",
    "    remove_columns=original_columns\n",
    ")"
   ],
   "id": "9536025c172890f4",
   "outputs": [
    {
     "data": {
      "text/plain": [
       "Map:   0%|          | 0/7435908 [00:00<?, ? examples/s]"
      ],
      "application/vnd.jupyter.widget-view+json": {
       "version_major": 2,
       "version_minor": 0,
       "model_id": "66306b07c9884658a437e9e987e591dd"
      }
     },
     "metadata": {},
     "output_type": "display_data"
    },
    {
     "data": {
      "text/plain": [
       "Dataset({\n",
       "    features: ['prompt', 'chosen', 'rejected'],\n",
       "    num_rows: 7435908\n",
       "})"
      ]
     },
     "execution_count": 18,
     "metadata": {},
     "output_type": "execute_result"
    }
   ],
   "execution_count": 18
  },
  {
   "metadata": {},
   "cell_type": "markdown",
   "source": [
    "# 三、 对7B Llama v2进行SFT\n",
    "- 这里使用了QLoRA的方式"
   ],
   "id": "4b3045cbaa8887d4"
  },
  {
   "metadata": {
    "ExecuteTime": {
     "end_time": "2024-09-06T09:16:01.200003Z",
     "start_time": "2024-09-06T09:16:00.532697Z"
    }
   },
   "cell_type": "code",
   "source": "!python3 -m lib.stack_llama_2.sft_llama2",
   "id": "31e9c5b13ec3e6f0",
   "outputs": [
    {
     "name": "stdout",
     "output_type": "stream",
     "text": [
      "/bin/bash: warning: setlocale: LC_ALL: cannot change locale (en_US.UTF-8)\r\n",
      "/usr/bin/python3: Error while finding module specification for 'lib.stack_llama_2.sft_llama2' (ModuleNotFoundError: No module named 'lib')\r\n"
     ]
    }
   ],
   "execution_count": 19
  },
  {
   "metadata": {},
   "cell_type": "markdown",
   "source": "# 四、 对7B Llama v2进行DPO",
   "id": "c847f45e7ed2446d"
  },
  {
   "metadata": {},
   "cell_type": "code",
   "outputs": [],
   "execution_count": null,
   "source": "!python3 -m lib.stack_llama_2.dpo_llama2",
   "id": "7f1c23ac2aea9f19"
  }
 ],
 "metadata": {
  "kernelspec": {
   "display_name": "Python 3",
   "language": "python",
   "name": "python3"
  },
  "language_info": {
   "codemirror_mode": {
    "name": "ipython",
    "version": 2
   },
   "file_extension": ".py",
   "mimetype": "text/x-python",
   "name": "python",
   "nbconvert_exporter": "python",
   "pygments_lexer": "ipython2",
   "version": "2.7.6"
  }
 },
 "nbformat": 4,
 "nbformat_minor": 5
}
